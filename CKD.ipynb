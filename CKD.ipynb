{
 "cells": [
  {
   "cell_type": "code",
   "execution_count": 153,
   "id": "930e30b5",
   "metadata": {},
   "outputs": [],
   "source": [
    "import pandas as pd\n",
    "import numpy as np\n",
    "import seaborn as sns\n",
    "import matplotlib.pyplot as plt\n",
    "%matplotlib inline"
   ]
  },
  {
   "cell_type": "code",
   "execution_count": 154,
   "id": "0630d5e3",
   "metadata": {},
   "outputs": [],
   "source": [
    "#pip install xlrd"
   ]
  },
  {
   "cell_type": "code",
   "execution_count": 155,
   "id": "c5a002b5",
   "metadata": {},
   "outputs": [
    {
     "data": {
      "text/html": [
       "<div>\n",
       "<style scoped>\n",
       "    .dataframe tbody tr th:only-of-type {\n",
       "        vertical-align: middle;\n",
       "    }\n",
       "\n",
       "    .dataframe tbody tr th {\n",
       "        vertical-align: top;\n",
       "    }\n",
       "\n",
       "    .dataframe thead th {\n",
       "        text-align: right;\n",
       "    }\n",
       "</style>\n",
       "<table border=\"1\" class=\"dataframe\">\n",
       "  <thead>\n",
       "    <tr style=\"text-align: right;\">\n",
       "      <th></th>\n",
       "      <th>ID</th>\n",
       "      <th>Age</th>\n",
       "      <th>Female</th>\n",
       "      <th>Racegrp</th>\n",
       "      <th>Educ</th>\n",
       "      <th>Unmarried</th>\n",
       "      <th>Income</th>\n",
       "      <th>CareSource</th>\n",
       "      <th>Insured</th>\n",
       "      <th>Weight</th>\n",
       "      <th>...</th>\n",
       "      <th>Hypertension</th>\n",
       "      <th>Fam Hypertension</th>\n",
       "      <th>Diabetes</th>\n",
       "      <th>Fam Diabetes</th>\n",
       "      <th>Stroke</th>\n",
       "      <th>CVD</th>\n",
       "      <th>Fam CVD</th>\n",
       "      <th>CHF</th>\n",
       "      <th>Anemia</th>\n",
       "      <th>CKD</th>\n",
       "    </tr>\n",
       "  </thead>\n",
       "  <tbody>\n",
       "    <tr>\n",
       "      <th>0</th>\n",
       "      <td>1</td>\n",
       "      <td>65</td>\n",
       "      <td>1</td>\n",
       "      <td>white</td>\n",
       "      <td>0.0</td>\n",
       "      <td>0.0</td>\n",
       "      <td>1.0</td>\n",
       "      <td>other</td>\n",
       "      <td>1.0</td>\n",
       "      <td>56.0</td>\n",
       "      <td>...</td>\n",
       "      <td>0.0</td>\n",
       "      <td>0</td>\n",
       "      <td>0.0</td>\n",
       "      <td>1</td>\n",
       "      <td>0.0</td>\n",
       "      <td>1.0</td>\n",
       "      <td>0.0</td>\n",
       "      <td>0.0</td>\n",
       "      <td>0.0</td>\n",
       "      <td>0.0</td>\n",
       "    </tr>\n",
       "    <tr>\n",
       "      <th>1</th>\n",
       "      <td>2</td>\n",
       "      <td>36</td>\n",
       "      <td>1</td>\n",
       "      <td>hispa</td>\n",
       "      <td>0.0</td>\n",
       "      <td>NaN</td>\n",
       "      <td>1.0</td>\n",
       "      <td>noplace</td>\n",
       "      <td>0.0</td>\n",
       "      <td>60.2</td>\n",
       "      <td>...</td>\n",
       "      <td>0.0</td>\n",
       "      <td>0</td>\n",
       "      <td>0.0</td>\n",
       "      <td>0</td>\n",
       "      <td>0.0</td>\n",
       "      <td>0.0</td>\n",
       "      <td>0.0</td>\n",
       "      <td>0.0</td>\n",
       "      <td>0.0</td>\n",
       "      <td>0.0</td>\n",
       "    </tr>\n",
       "    <tr>\n",
       "      <th>2</th>\n",
       "      <td>3</td>\n",
       "      <td>66</td>\n",
       "      <td>1</td>\n",
       "      <td>white</td>\n",
       "      <td>0.0</td>\n",
       "      <td>1.0</td>\n",
       "      <td>0.0</td>\n",
       "      <td>noplace</td>\n",
       "      <td>1.0</td>\n",
       "      <td>83.9</td>\n",
       "      <td>...</td>\n",
       "      <td>0.0</td>\n",
       "      <td>0</td>\n",
       "      <td>1.0</td>\n",
       "      <td>0</td>\n",
       "      <td>0.0</td>\n",
       "      <td>0.0</td>\n",
       "      <td>0.0</td>\n",
       "      <td>0.0</td>\n",
       "      <td>0.0</td>\n",
       "      <td>0.0</td>\n",
       "    </tr>\n",
       "    <tr>\n",
       "      <th>3</th>\n",
       "      <td>4</td>\n",
       "      <td>54</td>\n",
       "      <td>1</td>\n",
       "      <td>white</td>\n",
       "      <td>1.0</td>\n",
       "      <td>0.0</td>\n",
       "      <td>0.0</td>\n",
       "      <td>DrHMO</td>\n",
       "      <td>1.0</td>\n",
       "      <td>69.4</td>\n",
       "      <td>...</td>\n",
       "      <td>0.0</td>\n",
       "      <td>0</td>\n",
       "      <td>0.0</td>\n",
       "      <td>0</td>\n",
       "      <td>0.0</td>\n",
       "      <td>0.0</td>\n",
       "      <td>0.0</td>\n",
       "      <td>0.0</td>\n",
       "      <td>0.0</td>\n",
       "      <td>0.0</td>\n",
       "    </tr>\n",
       "    <tr>\n",
       "      <th>4</th>\n",
       "      <td>5</td>\n",
       "      <td>63</td>\n",
       "      <td>1</td>\n",
       "      <td>black</td>\n",
       "      <td>0.0</td>\n",
       "      <td>0.0</td>\n",
       "      <td>NaN</td>\n",
       "      <td>clinic</td>\n",
       "      <td>1.0</td>\n",
       "      <td>73.1</td>\n",
       "      <td>...</td>\n",
       "      <td>1.0</td>\n",
       "      <td>0</td>\n",
       "      <td>0.0</td>\n",
       "      <td>0</td>\n",
       "      <td>0.0</td>\n",
       "      <td>0.0</td>\n",
       "      <td>0.0</td>\n",
       "      <td>0.0</td>\n",
       "      <td>0.0</td>\n",
       "      <td>0.0</td>\n",
       "    </tr>\n",
       "  </tbody>\n",
       "</table>\n",
       "<p>5 rows × 34 columns</p>\n",
       "</div>"
      ],
      "text/plain": [
       "   ID  Age  Female Racegrp  Educ  Unmarried  Income CareSource  Insured  \\\n",
       "0   1   65       1   white   0.0        0.0     1.0      other      1.0   \n",
       "1   2   36       1   hispa   0.0        NaN     1.0    noplace      0.0   \n",
       "2   3   66       1   white   0.0        1.0     0.0    noplace      1.0   \n",
       "3   4   54       1   white   1.0        0.0     0.0      DrHMO      1.0   \n",
       "4   5   63       1   black   0.0        0.0     NaN     clinic      1.0   \n",
       "\n",
       "   Weight  ...  Hypertension  Fam Hypertension  Diabetes  Fam Diabetes  \\\n",
       "0    56.0  ...           0.0                 0       0.0             1   \n",
       "1    60.2  ...           0.0                 0       0.0             0   \n",
       "2    83.9  ...           0.0                 0       1.0             0   \n",
       "3    69.4  ...           0.0                 0       0.0             0   \n",
       "4    73.1  ...           1.0                 0       0.0             0   \n",
       "\n",
       "   Stroke  CVD  Fam CVD  CHF  Anemia  CKD  \n",
       "0     0.0  1.0      0.0  0.0     0.0  0.0  \n",
       "1     0.0  0.0      0.0  0.0     0.0  0.0  \n",
       "2     0.0  0.0      0.0  0.0     0.0  0.0  \n",
       "3     0.0  0.0      0.0  0.0     0.0  0.0  \n",
       "4     0.0  0.0      0.0  0.0     0.0  0.0  \n",
       "\n",
       "[5 rows x 34 columns]"
      ]
     },
     "execution_count": 155,
     "metadata": {},
     "output_type": "execute_result"
    }
   ],
   "source": [
    "df = pd.read_excel('ckd.xls', sheet_name = \"All Data\")\n",
    "df.head()"
   ]
  },
  {
   "cell_type": "code",
   "execution_count": 156,
   "id": "76d56c1e",
   "metadata": {
    "scrolled": true
   },
   "outputs": [
    {
     "data": {
      "text/plain": [
       "ID                     0\n",
       "Age                    0\n",
       "Female                 0\n",
       "Racegrp                0\n",
       "Educ                  20\n",
       "Unmarried            452\n",
       "Income              1166\n",
       "CareSource             0\n",
       "Insured              113\n",
       "Weight               194\n",
       "Height               191\n",
       "BMI                  290\n",
       "Obese                290\n",
       "Waist                314\n",
       "SBP                  308\n",
       "DBP                  380\n",
       "HDL                   17\n",
       "LDL                   18\n",
       "Total Chol            16\n",
       "Dyslipidemia           0\n",
       "PVD                    0\n",
       "Activity              10\n",
       "PoorVision           567\n",
       "Smoker                 0\n",
       "Hypertension          80\n",
       "Fam Hypertension       0\n",
       "Diabetes               2\n",
       "Fam Diabetes           0\n",
       "Stroke                11\n",
       "CVD                   23\n",
       "Fam CVD              419\n",
       "CHF                   36\n",
       "Anemia                 6\n",
       "CKD                 2819\n",
       "dtype: int64"
      ]
     },
     "execution_count": 156,
     "metadata": {},
     "output_type": "execute_result"
    }
   ],
   "source": [
    "df.isnull().sum()"
   ]
  },
  {
   "cell_type": "code",
   "execution_count": 157,
   "id": "b123f982",
   "metadata": {},
   "outputs": [
    {
     "data": {
      "text/plain": [
       "(8819, 34)"
      ]
     },
     "execution_count": 157,
     "metadata": {},
     "output_type": "execute_result"
    }
   ],
   "source": [
    "df.describe()\n",
    "df.shape"
   ]
  },
  {
   "cell_type": "code",
   "execution_count": 158,
   "id": "d1d351f5",
   "metadata": {},
   "outputs": [],
   "source": [
    "d_obese=np.where(df['Weight']/(df['Height']/100)**2 <30, 0,1)\n",
    "df.insert(3, 'dummy_Obese', d_obese)"
   ]
  },
  {
   "cell_type": "code",
   "execution_count": 159,
   "id": "e2b5a0d0",
   "metadata": {},
   "outputs": [],
   "source": [
    "df.drop(['ID','Educ','CareSource','Unmarried','Income','Insured','BMI','Obese','Weight',\n",
    "       'Height','Waist','PoorVision'],inplace=True, axis=1)"
   ]
  },
  {
   "cell_type": "code",
   "execution_count": 160,
   "id": "cbacb136",
   "metadata": {},
   "outputs": [
    {
     "data": {
      "text/plain": [
       "(8819, 23)"
      ]
     },
     "execution_count": 160,
     "metadata": {},
     "output_type": "execute_result"
    }
   ],
   "source": [
    "df.shape"
   ]
  },
  {
   "cell_type": "code",
   "execution_count": 161,
   "id": "d0f3d401",
   "metadata": {},
   "outputs": [
    {
     "data": {
      "text/plain": [
       "Age                    0\n",
       "Female                 0\n",
       "dummy_Obese            0\n",
       "Racegrp                0\n",
       "SBP                  308\n",
       "DBP                  380\n",
       "HDL                   17\n",
       "LDL                   18\n",
       "Total Chol            16\n",
       "Dyslipidemia           0\n",
       "PVD                    0\n",
       "Activity              10\n",
       "Smoker                 0\n",
       "Hypertension          80\n",
       "Fam Hypertension       0\n",
       "Diabetes               2\n",
       "Fam Diabetes           0\n",
       "Stroke                11\n",
       "CVD                   23\n",
       "Fam CVD              419\n",
       "CHF                   36\n",
       "Anemia                 6\n",
       "CKD                 2819\n",
       "dtype: int64"
      ]
     },
     "execution_count": 161,
     "metadata": {},
     "output_type": "execute_result"
    }
   ],
   "source": [
    "df.isna().sum()"
   ]
  },
  {
   "cell_type": "code",
   "execution_count": 162,
   "id": "97180d19",
   "metadata": {},
   "outputs": [],
   "source": [
    "df = df.dropna(subset=['SBP','DBP','HDL','LDL','Total Chol','Activity','Hypertension','Diabetes','Stroke','CVD','Fam CVD',\n",
    "                       'CHF','Anemia'])"
   ]
  },
  {
   "cell_type": "code",
   "execution_count": 163,
   "id": "6379e441",
   "metadata": {},
   "outputs": [
    {
     "data": {
      "text/plain": [
       "(7899, 23)"
      ]
     },
     "execution_count": 163,
     "metadata": {},
     "output_type": "execute_result"
    }
   ],
   "source": [
    "df.shape"
   ]
  },
  {
   "cell_type": "code",
   "execution_count": 164,
   "id": "32d58b10",
   "metadata": {},
   "outputs": [
    {
     "data": {
      "text/html": [
       "<div>\n",
       "<style scoped>\n",
       "    .dataframe tbody tr th:only-of-type {\n",
       "        vertical-align: middle;\n",
       "    }\n",
       "\n",
       "    .dataframe tbody tr th {\n",
       "        vertical-align: top;\n",
       "    }\n",
       "\n",
       "    .dataframe thead th {\n",
       "        text-align: right;\n",
       "    }\n",
       "</style>\n",
       "<table border=\"1\" class=\"dataframe\">\n",
       "  <thead>\n",
       "    <tr style=\"text-align: right;\">\n",
       "      <th></th>\n",
       "      <th>Age</th>\n",
       "      <th>Female</th>\n",
       "      <th>dummy_Obese</th>\n",
       "      <th>Racegrp</th>\n",
       "      <th>SBP</th>\n",
       "      <th>DBP</th>\n",
       "      <th>HDL</th>\n",
       "      <th>LDL</th>\n",
       "      <th>Total Chol</th>\n",
       "      <th>Dyslipidemia</th>\n",
       "      <th>...</th>\n",
       "      <th>Hypertension</th>\n",
       "      <th>Fam Hypertension</th>\n",
       "      <th>Diabetes</th>\n",
       "      <th>Fam Diabetes</th>\n",
       "      <th>Stroke</th>\n",
       "      <th>CVD</th>\n",
       "      <th>Fam CVD</th>\n",
       "      <th>CHF</th>\n",
       "      <th>Anemia</th>\n",
       "      <th>CKD</th>\n",
       "    </tr>\n",
       "  </thead>\n",
       "  <tbody>\n",
       "    <tr>\n",
       "      <th>0</th>\n",
       "      <td>65</td>\n",
       "      <td>1</td>\n",
       "      <td>0</td>\n",
       "      <td>white</td>\n",
       "      <td>135.0</td>\n",
       "      <td>71.0</td>\n",
       "      <td>48.0</td>\n",
       "      <td>249.0</td>\n",
       "      <td>297.0</td>\n",
       "      <td>0</td>\n",
       "      <td>...</td>\n",
       "      <td>0.0</td>\n",
       "      <td>0</td>\n",
       "      <td>0.0</td>\n",
       "      <td>1</td>\n",
       "      <td>0.0</td>\n",
       "      <td>1.0</td>\n",
       "      <td>0.0</td>\n",
       "      <td>0.0</td>\n",
       "      <td>0.0</td>\n",
       "      <td>0.0</td>\n",
       "    </tr>\n",
       "    <tr>\n",
       "      <th>1</th>\n",
       "      <td>36</td>\n",
       "      <td>1</td>\n",
       "      <td>0</td>\n",
       "      <td>hispa</td>\n",
       "      <td>96.0</td>\n",
       "      <td>52.0</td>\n",
       "      <td>31.0</td>\n",
       "      <td>135.0</td>\n",
       "      <td>166.0</td>\n",
       "      <td>0</td>\n",
       "      <td>...</td>\n",
       "      <td>0.0</td>\n",
       "      <td>0</td>\n",
       "      <td>0.0</td>\n",
       "      <td>0</td>\n",
       "      <td>0.0</td>\n",
       "      <td>0.0</td>\n",
       "      <td>0.0</td>\n",
       "      <td>0.0</td>\n",
       "      <td>0.0</td>\n",
       "      <td>0.0</td>\n",
       "    </tr>\n",
       "    <tr>\n",
       "      <th>2</th>\n",
       "      <td>66</td>\n",
       "      <td>1</td>\n",
       "      <td>1</td>\n",
       "      <td>white</td>\n",
       "      <td>115.0</td>\n",
       "      <td>57.0</td>\n",
       "      <td>44.0</td>\n",
       "      <td>211.0</td>\n",
       "      <td>255.0</td>\n",
       "      <td>1</td>\n",
       "      <td>...</td>\n",
       "      <td>0.0</td>\n",
       "      <td>0</td>\n",
       "      <td>1.0</td>\n",
       "      <td>0</td>\n",
       "      <td>0.0</td>\n",
       "      <td>0.0</td>\n",
       "      <td>0.0</td>\n",
       "      <td>0.0</td>\n",
       "      <td>0.0</td>\n",
       "      <td>0.0</td>\n",
       "    </tr>\n",
       "    <tr>\n",
       "      <th>3</th>\n",
       "      <td>54</td>\n",
       "      <td>1</td>\n",
       "      <td>0</td>\n",
       "      <td>white</td>\n",
       "      <td>110.0</td>\n",
       "      <td>57.0</td>\n",
       "      <td>74.0</td>\n",
       "      <td>156.0</td>\n",
       "      <td>230.0</td>\n",
       "      <td>0</td>\n",
       "      <td>...</td>\n",
       "      <td>0.0</td>\n",
       "      <td>0</td>\n",
       "      <td>0.0</td>\n",
       "      <td>0</td>\n",
       "      <td>0.0</td>\n",
       "      <td>0.0</td>\n",
       "      <td>0.0</td>\n",
       "      <td>0.0</td>\n",
       "      <td>0.0</td>\n",
       "      <td>0.0</td>\n",
       "    </tr>\n",
       "    <tr>\n",
       "      <th>4</th>\n",
       "      <td>63</td>\n",
       "      <td>1</td>\n",
       "      <td>0</td>\n",
       "      <td>black</td>\n",
       "      <td>132.0</td>\n",
       "      <td>73.0</td>\n",
       "      <td>67.0</td>\n",
       "      <td>154.0</td>\n",
       "      <td>221.0</td>\n",
       "      <td>0</td>\n",
       "      <td>...</td>\n",
       "      <td>1.0</td>\n",
       "      <td>0</td>\n",
       "      <td>0.0</td>\n",
       "      <td>0</td>\n",
       "      <td>0.0</td>\n",
       "      <td>0.0</td>\n",
       "      <td>0.0</td>\n",
       "      <td>0.0</td>\n",
       "      <td>0.0</td>\n",
       "      <td>0.0</td>\n",
       "    </tr>\n",
       "  </tbody>\n",
       "</table>\n",
       "<p>5 rows × 23 columns</p>\n",
       "</div>"
      ],
      "text/plain": [
       "   Age  Female  dummy_Obese Racegrp    SBP   DBP   HDL    LDL  Total Chol  \\\n",
       "0   65       1            0   white  135.0  71.0  48.0  249.0       297.0   \n",
       "1   36       1            0   hispa   96.0  52.0  31.0  135.0       166.0   \n",
       "2   66       1            1   white  115.0  57.0  44.0  211.0       255.0   \n",
       "3   54       1            0   white  110.0  57.0  74.0  156.0       230.0   \n",
       "4   63       1            0   black  132.0  73.0  67.0  154.0       221.0   \n",
       "\n",
       "   Dyslipidemia  ...  Hypertension  Fam Hypertension  Diabetes  Fam Diabetes  \\\n",
       "0             0  ...           0.0                 0       0.0             1   \n",
       "1             0  ...           0.0                 0       0.0             0   \n",
       "2             1  ...           0.0                 0       1.0             0   \n",
       "3             0  ...           0.0                 0       0.0             0   \n",
       "4             0  ...           1.0                 0       0.0             0   \n",
       "\n",
       "   Stroke  CVD  Fam CVD  CHF  Anemia  CKD  \n",
       "0     0.0  1.0      0.0  0.0     0.0  0.0  \n",
       "1     0.0  0.0      0.0  0.0     0.0  0.0  \n",
       "2     0.0  0.0      0.0  0.0     0.0  0.0  \n",
       "3     0.0  0.0      0.0  0.0     0.0  0.0  \n",
       "4     0.0  0.0      0.0  0.0     0.0  0.0  \n",
       "\n",
       "[5 rows x 23 columns]"
      ]
     },
     "execution_count": 164,
     "metadata": {},
     "output_type": "execute_result"
    }
   ],
   "source": [
    "df.head()"
   ]
  },
  {
   "cell_type": "code",
   "execution_count": 165,
   "id": "c50c4fee",
   "metadata": {},
   "outputs": [
    {
     "data": {
      "text/plain": [
       "Age                    0\n",
       "Female                 0\n",
       "dummy_Obese            0\n",
       "Racegrp                0\n",
       "SBP                    0\n",
       "DBP                    0\n",
       "HDL                    0\n",
       "LDL                    0\n",
       "Total Chol             0\n",
       "Dyslipidemia           0\n",
       "PVD                    0\n",
       "Activity               0\n",
       "Smoker                 0\n",
       "Hypertension           0\n",
       "Fam Hypertension       0\n",
       "Diabetes               0\n",
       "Fam Diabetes           0\n",
       "Stroke                 0\n",
       "CVD                    0\n",
       "Fam CVD                0\n",
       "CHF                    0\n",
       "Anemia                 0\n",
       "CKD                 2518\n",
       "dtype: int64"
      ]
     },
     "execution_count": 165,
     "metadata": {},
     "output_type": "execute_result"
    }
   ],
   "source": [
    "df.isnull().sum()"
   ]
  },
  {
   "cell_type": "code",
   "execution_count": 166,
   "id": "bc6ae4cc",
   "metadata": {},
   "outputs": [],
   "source": [
    "df = df.dropna(subset=['CKD'])"
   ]
  },
  {
   "cell_type": "code",
   "execution_count": 167,
   "id": "b5100363",
   "metadata": {},
   "outputs": [
    {
     "data": {
      "text/plain": [
       "(5381, 23)"
      ]
     },
     "execution_count": 167,
     "metadata": {},
     "output_type": "execute_result"
    }
   ],
   "source": [
    "df.shape"
   ]
  },
  {
   "cell_type": "code",
   "execution_count": 168,
   "id": "df11d139",
   "metadata": {},
   "outputs": [
    {
     "data": {
      "text/plain": [
       "count    5381.000000\n",
       "mean        0.330979\n",
       "std         0.470609\n",
       "min         0.000000\n",
       "25%         0.000000\n",
       "50%         0.000000\n",
       "75%         1.000000\n",
       "max         1.000000\n",
       "Name: dummy_Obese, dtype: float64"
      ]
     },
     "execution_count": 168,
     "metadata": {},
     "output_type": "execute_result"
    }
   ],
   "source": [
    "df['dummy_Obese'].describe()"
   ]
  },
  {
   "cell_type": "code",
   "execution_count": 169,
   "id": "064bddc2",
   "metadata": {},
   "outputs": [
    {
     "data": {
      "text/plain": [
       "0"
      ]
     },
     "execution_count": 169,
     "metadata": {},
     "output_type": "execute_result"
    }
   ],
   "source": [
    "df['dummy_Obese'].isnull().sum()"
   ]
  },
  {
   "cell_type": "code",
   "execution_count": 170,
   "id": "2dfe72f4",
   "metadata": {},
   "outputs": [
    {
     "data": {
      "text/plain": [
       "['Age',\n",
       " 'Female',\n",
       " 'dummy_Obese',\n",
       " 'Racegrp',\n",
       " 'SBP',\n",
       " 'DBP',\n",
       " 'HDL',\n",
       " 'LDL',\n",
       " 'Total Chol',\n",
       " 'Dyslipidemia',\n",
       " 'PVD',\n",
       " 'Activity',\n",
       " 'Smoker',\n",
       " 'Hypertension',\n",
       " 'Fam Hypertension',\n",
       " 'Diabetes',\n",
       " 'Fam Diabetes',\n",
       " 'Stroke',\n",
       " 'CVD',\n",
       " 'Fam CVD',\n",
       " 'CHF',\n",
       " 'Anemia',\n",
       " 'CKD']"
      ]
     },
     "execution_count": 170,
     "metadata": {},
     "output_type": "execute_result"
    }
   ],
   "source": [
    "list(df.columns)"
   ]
  },
  {
   "cell_type": "code",
   "execution_count": 171,
   "id": "28836b1a",
   "metadata": {},
   "outputs": [
    {
     "data": {
      "text/plain": [
       "Age                 0\n",
       "Female              0\n",
       "dummy_Obese         0\n",
       "Racegrp             0\n",
       "SBP                 0\n",
       "DBP                 0\n",
       "HDL                 0\n",
       "LDL                 0\n",
       "Total Chol          0\n",
       "Dyslipidemia        0\n",
       "PVD                 0\n",
       "Activity            0\n",
       "Smoker              0\n",
       "Hypertension        0\n",
       "Fam Hypertension    0\n",
       "Diabetes            0\n",
       "Fam Diabetes        0\n",
       "Stroke              0\n",
       "CVD                 0\n",
       "Fam CVD             0\n",
       "CHF                 0\n",
       "Anemia              0\n",
       "CKD                 0\n",
       "dtype: int64"
      ]
     },
     "execution_count": 171,
     "metadata": {},
     "output_type": "execute_result"
    }
   ],
   "source": [
    "df.isnull().sum()"
   ]
  },
  {
   "cell_type": "code",
   "execution_count": 172,
   "id": "be33a119",
   "metadata": {},
   "outputs": [
    {
     "name": "stdout",
     "output_type": "stream",
     "text": [
      "<class 'pandas.core.frame.DataFrame'>\n",
      "Int64Index: 5381 entries, 0 to 5999\n",
      "Data columns (total 23 columns):\n",
      " #   Column            Non-Null Count  Dtype  \n",
      "---  ------            --------------  -----  \n",
      " 0   Age               5381 non-null   int64  \n",
      " 1   Female            5381 non-null   int64  \n",
      " 2   dummy_Obese       5381 non-null   int32  \n",
      " 3   Racegrp           5381 non-null   object \n",
      " 4   SBP               5381 non-null   float64\n",
      " 5   DBP               5381 non-null   float64\n",
      " 6   HDL               5381 non-null   float64\n",
      " 7   LDL               5381 non-null   float64\n",
      " 8   Total Chol        5381 non-null   float64\n",
      " 9   Dyslipidemia      5381 non-null   int64  \n",
      " 10  PVD               5381 non-null   int64  \n",
      " 11  Activity          5381 non-null   float64\n",
      " 12  Smoker            5381 non-null   int64  \n",
      " 13  Hypertension      5381 non-null   float64\n",
      " 14  Fam Hypertension  5381 non-null   int64  \n",
      " 15  Diabetes          5381 non-null   float64\n",
      " 16  Fam Diabetes      5381 non-null   int64  \n",
      " 17  Stroke            5381 non-null   float64\n",
      " 18  CVD               5381 non-null   float64\n",
      " 19  Fam CVD           5381 non-null   float64\n",
      " 20  CHF               5381 non-null   float64\n",
      " 21  Anemia            5381 non-null   float64\n",
      " 22  CKD               5381 non-null   float64\n",
      "dtypes: float64(14), int32(1), int64(7), object(1)\n",
      "memory usage: 987.9+ KB\n"
     ]
    }
   ],
   "source": [
    "df.info()"
   ]
  },
  {
   "cell_type": "code",
   "execution_count": 173,
   "id": "2ec20718",
   "metadata": {},
   "outputs": [
    {
     "data": {
      "text/plain": [
       "Age                   int64\n",
       "Female                int64\n",
       "dummy_Obese           int32\n",
       "Racegrp              object\n",
       "SBP                 float64\n",
       "DBP                 float64\n",
       "HDL                 float64\n",
       "LDL                 float64\n",
       "Total Chol          float64\n",
       "Dyslipidemia          int64\n",
       "PVD                   int64\n",
       "Activity            float64\n",
       "Smoker                int64\n",
       "Hypertension        float64\n",
       "Fam Hypertension      int64\n",
       "Diabetes            float64\n",
       "Fam Diabetes          int64\n",
       "Stroke              float64\n",
       "CVD                 float64\n",
       "Fam CVD             float64\n",
       "CHF                 float64\n",
       "Anemia              float64\n",
       "CKD                 float64\n",
       "dtype: object"
      ]
     },
     "execution_count": 173,
     "metadata": {},
     "output_type": "execute_result"
    }
   ],
   "source": [
    "df.dtypes"
   ]
  },
  {
   "cell_type": "code",
   "execution_count": 174,
   "id": "d43354cb",
   "metadata": {},
   "outputs": [
    {
     "data": {
      "text/plain": [
       "array(['white', 'hispa', 'black', 'other'], dtype=object)"
      ]
     },
     "execution_count": 174,
     "metadata": {},
     "output_type": "execute_result"
    }
   ],
   "source": [
    "df['Racegrp'].unique()"
   ]
  },
  {
   "cell_type": "code",
   "execution_count": 175,
   "id": "9d90c21e",
   "metadata": {},
   "outputs": [],
   "source": [
    "df['Racegrp']=np.where(df['Racegrp'] !='white', 0,1)"
   ]
  },
  {
   "cell_type": "code",
   "execution_count": 176,
   "id": "0052049a",
   "metadata": {
    "scrolled": true
   },
   "outputs": [
    {
     "data": {
      "text/html": [
       "<div>\n",
       "<style scoped>\n",
       "    .dataframe tbody tr th:only-of-type {\n",
       "        vertical-align: middle;\n",
       "    }\n",
       "\n",
       "    .dataframe tbody tr th {\n",
       "        vertical-align: top;\n",
       "    }\n",
       "\n",
       "    .dataframe thead th {\n",
       "        text-align: right;\n",
       "    }\n",
       "</style>\n",
       "<table border=\"1\" class=\"dataframe\">\n",
       "  <thead>\n",
       "    <tr style=\"text-align: right;\">\n",
       "      <th></th>\n",
       "      <th>Age</th>\n",
       "      <th>Female</th>\n",
       "      <th>dummy_Obese</th>\n",
       "      <th>Racegrp</th>\n",
       "      <th>SBP</th>\n",
       "      <th>DBP</th>\n",
       "      <th>HDL</th>\n",
       "      <th>LDL</th>\n",
       "      <th>Total Chol</th>\n",
       "      <th>Dyslipidemia</th>\n",
       "      <th>...</th>\n",
       "      <th>Hypertension</th>\n",
       "      <th>Fam Hypertension</th>\n",
       "      <th>Diabetes</th>\n",
       "      <th>Fam Diabetes</th>\n",
       "      <th>Stroke</th>\n",
       "      <th>CVD</th>\n",
       "      <th>Fam CVD</th>\n",
       "      <th>CHF</th>\n",
       "      <th>Anemia</th>\n",
       "      <th>CKD</th>\n",
       "    </tr>\n",
       "  </thead>\n",
       "  <tbody>\n",
       "    <tr>\n",
       "      <th>0</th>\n",
       "      <td>65</td>\n",
       "      <td>1</td>\n",
       "      <td>0</td>\n",
       "      <td>1</td>\n",
       "      <td>135.0</td>\n",
       "      <td>71.0</td>\n",
       "      <td>48.0</td>\n",
       "      <td>249.0</td>\n",
       "      <td>297.0</td>\n",
       "      <td>0</td>\n",
       "      <td>...</td>\n",
       "      <td>0.0</td>\n",
       "      <td>0</td>\n",
       "      <td>0.0</td>\n",
       "      <td>1</td>\n",
       "      <td>0.0</td>\n",
       "      <td>1.0</td>\n",
       "      <td>0.0</td>\n",
       "      <td>0.0</td>\n",
       "      <td>0.0</td>\n",
       "      <td>0.0</td>\n",
       "    </tr>\n",
       "    <tr>\n",
       "      <th>1</th>\n",
       "      <td>36</td>\n",
       "      <td>1</td>\n",
       "      <td>0</td>\n",
       "      <td>0</td>\n",
       "      <td>96.0</td>\n",
       "      <td>52.0</td>\n",
       "      <td>31.0</td>\n",
       "      <td>135.0</td>\n",
       "      <td>166.0</td>\n",
       "      <td>0</td>\n",
       "      <td>...</td>\n",
       "      <td>0.0</td>\n",
       "      <td>0</td>\n",
       "      <td>0.0</td>\n",
       "      <td>0</td>\n",
       "      <td>0.0</td>\n",
       "      <td>0.0</td>\n",
       "      <td>0.0</td>\n",
       "      <td>0.0</td>\n",
       "      <td>0.0</td>\n",
       "      <td>0.0</td>\n",
       "    </tr>\n",
       "    <tr>\n",
       "      <th>2</th>\n",
       "      <td>66</td>\n",
       "      <td>1</td>\n",
       "      <td>1</td>\n",
       "      <td>1</td>\n",
       "      <td>115.0</td>\n",
       "      <td>57.0</td>\n",
       "      <td>44.0</td>\n",
       "      <td>211.0</td>\n",
       "      <td>255.0</td>\n",
       "      <td>1</td>\n",
       "      <td>...</td>\n",
       "      <td>0.0</td>\n",
       "      <td>0</td>\n",
       "      <td>1.0</td>\n",
       "      <td>0</td>\n",
       "      <td>0.0</td>\n",
       "      <td>0.0</td>\n",
       "      <td>0.0</td>\n",
       "      <td>0.0</td>\n",
       "      <td>0.0</td>\n",
       "      <td>0.0</td>\n",
       "    </tr>\n",
       "    <tr>\n",
       "      <th>3</th>\n",
       "      <td>54</td>\n",
       "      <td>1</td>\n",
       "      <td>0</td>\n",
       "      <td>1</td>\n",
       "      <td>110.0</td>\n",
       "      <td>57.0</td>\n",
       "      <td>74.0</td>\n",
       "      <td>156.0</td>\n",
       "      <td>230.0</td>\n",
       "      <td>0</td>\n",
       "      <td>...</td>\n",
       "      <td>0.0</td>\n",
       "      <td>0</td>\n",
       "      <td>0.0</td>\n",
       "      <td>0</td>\n",
       "      <td>0.0</td>\n",
       "      <td>0.0</td>\n",
       "      <td>0.0</td>\n",
       "      <td>0.0</td>\n",
       "      <td>0.0</td>\n",
       "      <td>0.0</td>\n",
       "    </tr>\n",
       "    <tr>\n",
       "      <th>4</th>\n",
       "      <td>63</td>\n",
       "      <td>1</td>\n",
       "      <td>0</td>\n",
       "      <td>0</td>\n",
       "      <td>132.0</td>\n",
       "      <td>73.0</td>\n",
       "      <td>67.0</td>\n",
       "      <td>154.0</td>\n",
       "      <td>221.0</td>\n",
       "      <td>0</td>\n",
       "      <td>...</td>\n",
       "      <td>1.0</td>\n",
       "      <td>0</td>\n",
       "      <td>0.0</td>\n",
       "      <td>0</td>\n",
       "      <td>0.0</td>\n",
       "      <td>0.0</td>\n",
       "      <td>0.0</td>\n",
       "      <td>0.0</td>\n",
       "      <td>0.0</td>\n",
       "      <td>0.0</td>\n",
       "    </tr>\n",
       "  </tbody>\n",
       "</table>\n",
       "<p>5 rows × 23 columns</p>\n",
       "</div>"
      ],
      "text/plain": [
       "   Age  Female  dummy_Obese  Racegrp    SBP   DBP   HDL    LDL  Total Chol  \\\n",
       "0   65       1            0        1  135.0  71.0  48.0  249.0       297.0   \n",
       "1   36       1            0        0   96.0  52.0  31.0  135.0       166.0   \n",
       "2   66       1            1        1  115.0  57.0  44.0  211.0       255.0   \n",
       "3   54       1            0        1  110.0  57.0  74.0  156.0       230.0   \n",
       "4   63       1            0        0  132.0  73.0  67.0  154.0       221.0   \n",
       "\n",
       "   Dyslipidemia  ...  Hypertension  Fam Hypertension  Diabetes  Fam Diabetes  \\\n",
       "0             0  ...           0.0                 0       0.0             1   \n",
       "1             0  ...           0.0                 0       0.0             0   \n",
       "2             1  ...           0.0                 0       1.0             0   \n",
       "3             0  ...           0.0                 0       0.0             0   \n",
       "4             0  ...           1.0                 0       0.0             0   \n",
       "\n",
       "   Stroke  CVD  Fam CVD  CHF  Anemia  CKD  \n",
       "0     0.0  1.0      0.0  0.0     0.0  0.0  \n",
       "1     0.0  0.0      0.0  0.0     0.0  0.0  \n",
       "2     0.0  0.0      0.0  0.0     0.0  0.0  \n",
       "3     0.0  0.0      0.0  0.0     0.0  0.0  \n",
       "4     0.0  0.0      0.0  0.0     0.0  0.0  \n",
       "\n",
       "[5 rows x 23 columns]"
      ]
     },
     "execution_count": 176,
     "metadata": {},
     "output_type": "execute_result"
    }
   ],
   "source": [
    "df.head()"
   ]
  },
  {
   "cell_type": "code",
   "execution_count": 177,
   "id": "5269d5d4",
   "metadata": {},
   "outputs": [
    {
     "name": "stdout",
     "output_type": "stream",
     "text": [
      "<class 'pandas.core.frame.DataFrame'>\n",
      "Int64Index: 5381 entries, 0 to 5999\n",
      "Data columns (total 23 columns):\n",
      " #   Column            Non-Null Count  Dtype  \n",
      "---  ------            --------------  -----  \n",
      " 0   Age               5381 non-null   int64  \n",
      " 1   Female            5381 non-null   int64  \n",
      " 2   dummy_Obese       5381 non-null   int32  \n",
      " 3   Racegrp           5381 non-null   int32  \n",
      " 4   SBP               5381 non-null   float64\n",
      " 5   DBP               5381 non-null   float64\n",
      " 6   HDL               5381 non-null   float64\n",
      " 7   LDL               5381 non-null   float64\n",
      " 8   Total Chol        5381 non-null   float64\n",
      " 9   Dyslipidemia      5381 non-null   int64  \n",
      " 10  PVD               5381 non-null   int64  \n",
      " 11  Activity          5381 non-null   float64\n",
      " 12  Smoker            5381 non-null   int64  \n",
      " 13  Hypertension      5381 non-null   float64\n",
      " 14  Fam Hypertension  5381 non-null   int64  \n",
      " 15  Diabetes          5381 non-null   float64\n",
      " 16  Fam Diabetes      5381 non-null   int64  \n",
      " 17  Stroke            5381 non-null   float64\n",
      " 18  CVD               5381 non-null   float64\n",
      " 19  Fam CVD           5381 non-null   float64\n",
      " 20  CHF               5381 non-null   float64\n",
      " 21  Anemia            5381 non-null   float64\n",
      " 22  CKD               5381 non-null   float64\n",
      "dtypes: float64(14), int32(2), int64(7)\n",
      "memory usage: 966.9 KB\n"
     ]
    }
   ],
   "source": [
    "df.info()"
   ]
  },
  {
   "cell_type": "code",
   "execution_count": 178,
   "id": "6529c3cb",
   "metadata": {
    "scrolled": true
   },
   "outputs": [
    {
     "data": {
      "text/plain": [
       "1    2826\n",
       "0    2555\n",
       "Name: Female, dtype: int64"
      ]
     },
     "execution_count": 178,
     "metadata": {},
     "output_type": "execute_result"
    }
   ],
   "source": [
    "df.Female.value_counts()"
   ]
  },
  {
   "cell_type": "code",
   "execution_count": 179,
   "id": "f521ead5",
   "metadata": {
    "scrolled": true
   },
   "outputs": [
    {
     "data": {
      "text/plain": [
       "2.0    2863\n",
       "1.0    1352\n",
       "3.0     819\n",
       "4.0     347\n",
       "Name: Activity, dtype: int64"
      ]
     },
     "execution_count": 179,
     "metadata": {},
     "output_type": "execute_result"
    }
   ],
   "source": [
    "df.Activity.value_counts()"
   ]
  },
  {
   "cell_type": "code",
   "execution_count": 180,
   "id": "740a8995",
   "metadata": {},
   "outputs": [
    {
     "data": {
      "text/plain": [
       "<AxesSubplot:>"
      ]
     },
     "execution_count": 180,
     "metadata": {},
     "output_type": "execute_result"
    },
    {
     "data": {
      "image/png": "[encoded data removed]",
      "text/plain": [
       "<Figure size 576x576 with 2 Axes>"
      ]
     },
     "metadata": {
      "needs_background": "light"
     },
     "output_type": "display_data"
    }
   ],
   "source": [
    "plt.figure(figsize=(8,8))\n",
    "sns.heatmap(df.corr(),cmap='Blues',annot=False)"
   ]
  },
  {
   "cell_type": "code",
   "execution_count": 181,
   "id": "3955ba77",
   "metadata": {},
   "outputs": [
    {
     "data": {
      "image/png": "[encoded data removed]",
      "text/plain": [
       "<Figure size 432x288 with 1 Axes>"
      ]
     },
     "metadata": {
      "needs_background": "light"
     },
     "output_type": "display_data"
    }
   ],
   "source": [
    "#df[['Age','CKD']].hist\n",
    "a=df[df['CKD']==1]\n",
    "a.plot.scatter(x = 'Age', y = 'CKD', s = 100);"
   ]
  },
  {
   "cell_type": "code",
   "execution_count": 182,
   "id": "ca2bc61b",
   "metadata": {},
   "outputs": [
    {
     "name": "stderr",
     "output_type": "stream",
     "text": [
      "C:\\Users\\hjain25\\AppData\\Local\\Temp\\ipykernel_21160\\1051328237.py:2: SettingWithCopyWarning: \n",
      "A value is trying to be set on a copy of a slice from a DataFrame.\n",
      "Try using .loc[row_indexer,col_indexer] = value instead\n",
      "\n",
      "See the caveats in the documentation: https://pandas.pydata.org/pandas-docs/stable/user_guide/indexing.html#returning-a-view-versus-a-copy\n",
      "  a['Female']=np.where(a['Female']==0, 'M','F')\n"
     ]
    },
    {
     "data": {
      "text/plain": [
       "<AxesSubplot:xlabel='Female', ylabel='Count'>"
      ]
     },
     "execution_count": 182,
     "metadata": {},
     "output_type": "execute_result"
    },
    {
     "data": {
      "image/png": "[encoded data removed]",
      "text/plain": [
       "<Figure size 432x288 with 1 Axes>"
      ]
     },
     "metadata": {
      "needs_background": "light"
     },
     "output_type": "display_data"
    }
   ],
   "source": [
    "a=df[['Female','CKD']]\n",
    "a['Female']=np.where(a['Female']==0, 'M','F')\n",
    "sns.histplot(binwidth=0.5, x=\"Female\", hue=\"CKD\", data=a, stat=\"count\", multiple=\"stack\")"
   ]
  },
  {
   "cell_type": "code",
   "execution_count": 197,
   "id": "64f72b09",
   "metadata": {},
   "outputs": [
    {
     "name": "stderr",
     "output_type": "stream",
     "text": [
      "C:\\Users\\hjain25\\AppData\\Local\\Temp\\ipykernel_21160\\3539428201.py:2: SettingWithCopyWarning: \n",
      "A value is trying to be set on a copy of a slice from a DataFrame.\n",
      "Try using .loc[row_indexer,col_indexer] = value instead\n",
      "\n",
      "See the caveats in the documentation: https://pandas.pydata.org/pandas-docs/stable/user_guide/indexing.html#returning-a-view-versus-a-copy\n",
      "  a['Age']=np.where(a['Age']>=60, '60+','<60')\n"
     ]
    },
    {
     "data": {
      "text/plain": [
       "<AxesSubplot:xlabel='Age', ylabel='Count'>"
      ]
     },
     "execution_count": 197,
     "metadata": {},
     "output_type": "execute_result"
    },
    {
     "data": {
      "image/png": "[encoded data removed]",
      "text/plain": [
       "<Figure size 432x288 with 1 Axes>"
      ]
     },
     "metadata": {
      "needs_background": "light"
     },
     "output_type": "display_data"
    }
   ],
   "source": [
    "a=df[['Age','CKD']]\n",
    "a['Age']=np.where(a['Age']>=60, '60+','<60')\n",
    "sns.histplot(binwidth=0.5, x=\"Age\", hue=\"CKD\", data=a, stat=\"count\", multiple=\"stack\")"
   ]
  },
  {
   "cell_type": "code",
   "execution_count": 203,
   "id": "1889d6cf",
   "metadata": {},
   "outputs": [
    {
     "name": "stderr",
     "output_type": "stream",
     "text": [
      "C:\\Users\\hjain25\\AppData\\Local\\Temp\\ipykernel_21160\\2339961272.py:2: SettingWithCopyWarning: \n",
      "A value is trying to be set on a copy of a slice from a DataFrame.\n",
      "Try using .loc[row_indexer,col_indexer] = value instead\n",
      "\n",
      "See the caveats in the documentation: https://pandas.pydata.org/pandas-docs/stable/user_guide/indexing.html#returning-a-view-versus-a-copy\n",
      "  a['dummy_Obese']=np.where(a['dummy_Obese']==0, 'Not Obese','Obese')\n"
     ]
    },
    {
     "data": {
      "text/plain": [
       "<AxesSubplot:xlabel='dummy_Obese', ylabel='Count'>"
      ]
     },
     "execution_count": 203,
     "metadata": {},
     "output_type": "execute_result"
    },
    {
     "data": {
      "image/png": "[encoded data removed]",
      "text/plain": [
       "<Figure size 432x288 with 1 Axes>"
      ]
     },
     "metadata": {
      "needs_background": "light"
     },
     "output_type": "display_data"
    }
   ],
   "source": [
    "a=df[['dummy_Obese','CKD']]\n",
    "a['dummy_Obese']=np.where(a['dummy_Obese']==0, 'Not Obese','Obese')\n",
    "sns.histplot(binwidth=0.5, x=\"dummy_Obese\", hue=\"CKD\", data=a, stat=\"count\", multiple=\"stack\")"
   ]
  },
  {
   "cell_type": "code",
   "execution_count": 183,
   "id": "7dad4695",
   "metadata": {},
   "outputs": [],
   "source": [
    "from sklearn.feature_selection import SelectKBest\n",
    "from sklearn.feature_selection import f_classif\n",
    "from numpy import set_printoptions"
   ]
  },
  {
   "cell_type": "code",
   "execution_count": 184,
   "id": "21cd0f3e",
   "metadata": {},
   "outputs": [],
   "source": [
    "array = df.values\n",
    "X = array[:,0:22]\n",
    "Y = array[:,22]\n",
    "test = SelectKBest(score_func=f_classif, k=4)#knearest-neighbor"
   ]
  },
  {
   "cell_type": "code",
   "execution_count": 185,
   "id": "cf14ccfc",
   "metadata": {},
   "outputs": [
    {
     "ename": "AttributeError",
     "evalue": "'RFE' object has no attribute 'scores_'",
     "output_type": "error",
     "traceback": [
      "\u001b[1;31m---------------------------------------------------------------------------\u001b[0m",
      "\u001b[1;31mAttributeError\u001b[0m                            Traceback (most recent call last)",
      "Input \u001b[1;32mIn [185]\u001b[0m, in \u001b[0;36m<module>\u001b[1;34m\u001b[0m\n\u001b[0;32m      1\u001b[0m \u001b[38;5;66;03m# summarize scores\u001b[39;00m\n\u001b[0;32m      2\u001b[0m set_printoptions(precision\u001b[38;5;241m=\u001b[39m\u001b[38;5;241m3\u001b[39m)\n\u001b[1;32m----> 3\u001b[0m \u001b[38;5;28mprint\u001b[39m(\u001b[43mfit\u001b[49m\u001b[38;5;241;43m.\u001b[39;49m\u001b[43mscores_\u001b[49m)\n\u001b[0;32m      4\u001b[0m features \u001b[38;5;241m=\u001b[39m fit\u001b[38;5;241m.\u001b[39mtransform(X)\n\u001b[0;32m      5\u001b[0m \u001b[38;5;66;03m# summarize selected features\u001b[39;00m\n",
      "\u001b[1;31mAttributeError\u001b[0m: 'RFE' object has no attribute 'scores_'"
     ]
    }
   ],
   "source": [
    "# summarize scores\n",
    "set_printoptions(precision=3)\n",
    "print(fit.scores_)\n",
    "features = fit.transform(X)\n",
    "# summarize selected features\n",
    "print(features[0:5,:])"
   ]
  },
  {
   "cell_type": "code",
   "execution_count": 186,
   "id": "e4174211",
   "metadata": {
    "scrolled": true
   },
   "outputs": [
    {
     "name": "stdout",
     "output_type": "stream",
     "text": [
      "Explained Variance: [0.731 0.126 0.078]\n",
      "[[ 5.608e-02  1.952e-04  7.464e-04  3.872e-04  6.394e-02  2.794e-02\n",
      "  -5.569e-03  7.070e-01  7.015e-01  1.563e-03  8.398e-05 -3.327e-05\n",
      "   2.671e-04  1.011e-03  1.326e-04  2.585e-04  4.747e-04  9.808e-05\n",
      "   1.654e-05 -7.097e-05 -4.820e-05 -1.032e-04]\n",
      " [ 6.070e-01 -1.113e-03  1.300e-03  8.646e-04  7.752e-01  1.450e-01\n",
      "   3.288e-02 -7.849e-02 -4.562e-02 -6.736e-04  1.504e-03 -4.030e-03\n",
      "   2.429e-03  1.259e-02 -8.398e-04  2.798e-03  1.825e-03  1.167e-03\n",
      "   2.013e-03 -1.902e-03  7.922e-04 -9.000e-05]\n",
      " [ 3.881e-02  8.686e-03 -4.229e-03  9.929e-04 -5.898e-02 -1.149e-01\n",
      "   8.089e-01 -3.962e-01  4.127e-01 -3.444e-03 -1.677e-04 -4.519e-04\n",
      "  -1.955e-04 -1.163e-03 -2.192e-04 -1.847e-03 -1.193e-03 -3.141e-04\n",
      "  -7.881e-04 -2.014e-04 -3.184e-04  2.268e-04]]\n"
     ]
    }
   ],
   "source": [
    "from sklearn.decomposition import PCA\n",
    "X = array[:,0:22]\n",
    "Y = array[:,0:22]\n",
    "# feature extraction\n",
    "pca = PCA(n_components=3)\n",
    "fit = pca.fit(X)\n",
    "# summarize components\n",
    "print(\"Explained Variance: %s\" % fit.explained_variance_ratio_)\n",
    "print(fit.components_)"
   ]
  },
  {
   "cell_type": "code",
   "execution_count": 187,
   "id": "d9b08866",
   "metadata": {
    "scrolled": false
   },
   "outputs": [
    {
     "name": "stderr",
     "output_type": "stream",
     "text": [
      "C:\\Users\\hjain25\\AppData\\Local\\Programs\\Python\\Python310\\lib\\site-packages\\sklearn\\linear_model\\_logistic.py:814: ConvergenceWarning: lbfgs failed to converge (status=1):\n",
      "STOP: TOTAL NO. of ITERATIONS REACHED LIMIT.\n",
      "\n",
      "Increase the number of iterations (max_iter) or scale the data as shown in:\n",
      "    https://scikit-learn.org/stable/modules/preprocessing.html\n",
      "Please also refer to the documentation for alternative solver options:\n",
      "    https://scikit-learn.org/stable/modules/linear_model.html#logistic-regression\n",
      "  n_iter_i = _check_optimize_result(\n",
      "C:\\Users\\hjain25\\AppData\\Local\\Programs\\Python\\Python310\\lib\\site-packages\\sklearn\\linear_model\\_logistic.py:814: ConvergenceWarning: lbfgs failed to converge (status=1):\n",
      "STOP: TOTAL NO. of ITERATIONS REACHED LIMIT.\n",
      "\n",
      "Increase the number of iterations (max_iter) or scale the data as shown in:\n",
      "    https://scikit-learn.org/stable/modules/preprocessing.html\n",
      "Please also refer to the documentation for alternative solver options:\n",
      "    https://scikit-learn.org/stable/modules/linear_model.html#logistic-regression\n",
      "  n_iter_i = _check_optimize_result(\n",
      "C:\\Users\\hjain25\\AppData\\Local\\Programs\\Python\\Python310\\lib\\site-packages\\sklearn\\linear_model\\_logistic.py:814: ConvergenceWarning: lbfgs failed to converge (status=1):\n",
      "STOP: TOTAL NO. of ITERATIONS REACHED LIMIT.\n",
      "\n",
      "Increase the number of iterations (max_iter) or scale the data as shown in:\n",
      "    https://scikit-learn.org/stable/modules/preprocessing.html\n",
      "Please also refer to the documentation for alternative solver options:\n",
      "    https://scikit-learn.org/stable/modules/linear_model.html#logistic-regression\n",
      "  n_iter_i = _check_optimize_result(\n"
     ]
    },
    {
     "name": "stdout",
     "output_type": "stream",
     "text": [
      "Num Features: 11\n",
      "Selected Features: [False  True  True  True False False False False False False  True  True\n",
      " False  True  True  True False False  True False  True  True]\n",
      "Feature Ranking: [3 1 1 1 5 4 4 5 5 3 1 1 4 1 1 1 3 2 1 2 1 1]\n"
     ]
    }
   ],
   "source": [
    "# Feature Extraction with RFE\n",
    "from pandas import read_csv\n",
    "from sklearn.feature_selection import RFE\n",
    "from sklearn.linear_model import LogisticRegression\n",
    "\n",
    "array = df.values\n",
    "X = array[:,0:22]\n",
    "Y = array[:,22]\n",
    "# feature extraction\n",
    "model = LogisticRegression(solver='lbfgs')\n",
    "rfe = RFE(model, step=3)\n",
    "fit = rfe.fit(X, Y)\n",
    "print(\"Num Features: %d\" % fit.n_features_)\n",
    "print(\"Selected Features: %s\" % fit.support_)\n",
    "print(\"Feature Ranking: %s\" % fit.ranking_)"
   ]
  },
  {
   "cell_type": "code",
   "execution_count": 188,
   "id": "a29fae94",
   "metadata": {},
   "outputs": [],
   "source": [
    "import matplotlib.pyplot as plt\n",
    "from sklearn.model_selection import train_test_split\n",
    "import numpy as np\n",
    "from sklearn.linear_model import LogisticRegression\n",
    "from sklearn.metrics import classification_report, confusion_matrix\n"
   ]
  },
  {
   "cell_type": "code",
   "execution_count": 189,
   "id": "bdccf8db",
   "metadata": {},
   "outputs": [],
   "source": [
    "lr = linear_model.LogisticRegression()"
   ]
  },
  {
   "cell_type": "code",
   "execution_count": 190,
   "id": "fb2b370d",
   "metadata": {},
   "outputs": [
    {
     "name": "stderr",
     "output_type": "stream",
     "text": [
      "C:\\Users\\hjain25\\AppData\\Local\\Programs\\Python\\Python310\\lib\\site-packages\\sklearn\\linear_model\\_logistic.py:814: ConvergenceWarning: lbfgs failed to converge (status=1):\n",
      "STOP: TOTAL NO. of ITERATIONS REACHED LIMIT.\n",
      "\n",
      "Increase the number of iterations (max_iter) or scale the data as shown in:\n",
      "    https://scikit-learn.org/stable/modules/preprocessing.html\n",
      "Please also refer to the documentation for alternative solver options:\n",
      "    https://scikit-learn.org/stable/modules/linear_model.html#logistic-regression\n",
      "  n_iter_i = _check_optimize_result(\n"
     ]
    },
    {
     "data": {
      "text/plain": [
       "0.9301115241635688"
      ]
     },
     "execution_count": 190,
     "metadata": {},
     "output_type": "execute_result"
    }
   ],
   "source": [
    "data2= df.drop(['CKD'], axis=1)\n",
    "x_train, x_test, y_train, y_test = train_test_split(data2, df['CKD'], test_size = 0.25)\n",
    "\n",
    "lr = linear_model.LogisticRegression()\n",
    "model = lr.fit(x_train,y_train)\n",
    "y_pred = model.predict(x_test)\n",
    "model.score(x_train,y_train)"
   ]
  },
  {
   "cell_type": "code",
   "execution_count": 191,
   "id": "c2cbc5e2",
   "metadata": {},
   "outputs": [
    {
     "name": "stdout",
     "output_type": "stream",
     "text": [
      "[[1227   17]\n",
      " [  82   20]]\n"
     ]
    }
   ],
   "source": [
    "#Confusion Matrix\n",
    "from sklearn.metrics import confusion_matrix\n",
    "confusion_matrix = confusion_matrix(y_test, y_pred)\n",
    "print(confusion_matrix)\n"
   ]
  },
  {
   "cell_type": "code",
   "execution_count": 192,
   "id": "2f414fc6",
   "metadata": {},
   "outputs": [
    {
     "ename": "SyntaxError",
     "evalue": "invalid syntax (773096551.py, line 2)",
     "output_type": "error",
     "traceback": [
      "\u001b[1;36m  Input \u001b[1;32mIn [192]\u001b[1;36m\u001b[0m\n\u001b[1;33m    TP FP\u001b[0m\n\u001b[1;37m       ^\u001b[0m\n\u001b[1;31mSyntaxError\u001b[0m\u001b[1;31m:\u001b[0m invalid syntax\n"
     ]
    }
   ],
   "source": [
    "# The reult is telling us that we have 1202+10 correct predictions and 14+86 incorrect predictions\n",
    "TP FP\n",
    "TN FN"
   ]
  },
  {
   "cell_type": "code",
   "execution_count": 193,
   "id": "5e68aec3",
   "metadata": {},
   "outputs": [
    {
     "name": "stdout",
     "output_type": "stream",
     "text": [
      "              precision    recall  f1-score   support\n",
      "\n",
      "         0.0       0.94      0.99      0.96      1244\n",
      "         1.0       0.54      0.20      0.29       102\n",
      "\n",
      "    accuracy                           0.93      1346\n",
      "   macro avg       0.74      0.59      0.62      1346\n",
      "weighted avg       0.91      0.93      0.91      1346\n",
      "\n"
     ]
    }
   ],
   "source": [
    "from sklearn.metrics import classification_report\n",
    "print(classification_report(y_test, y_pred))\n"
   ]
  },
  {
   "cell_type": "code",
   "execution_count": 195,
   "id": "296e17e3",
   "metadata": {},
   "outputs": [
    {
     "data": {
      "image/png": "[encoded data removed]",
      "text/plain": [
       "<Figure size 432x288 with 1 Axes>"
      ]
     },
     "metadata": {
      "needs_background": "light"
     },
     "output_type": "display_data"
    }
   ],
   "source": [
    "import sklearn.metrics as metrics\n",
    "# calculate the fpr and tpr for all thresholds of the classification\n",
    "probs = model.predict_proba(x_test)\n",
    "preds = probs[:,1]\n",
    "fpr, tpr, threshold = metrics.roc_curve(y_test, preds)\n",
    "roc_auc = metrics.auc(fpr, tpr)\n",
    "\n",
    "# method I: plt\n",
    "import matplotlib.pyplot as plt\n",
    "plt.title('Receiver Operating Characteristic')\n",
    "plt.plot(fpr, tpr, 'b', label = 'AUC = %0.2f' % roc_auc)\n",
    "plt.legend(loc = 'lower right')\n",
    "plt.plot([0, 1], [0, 1],'r--')\n",
    "plt.xlim([0, 1])\n",
    "plt.ylim([0, 1])\n",
    "plt.ylabel('True Positive Rate')\n",
    "plt.xlabel('False Positive Rate')\n",
    "plt.show()"
   ]
  },
  {
   "cell_type": "code",
   "execution_count": null,
   "id": "87081e3b",
   "metadata": {},
   "outputs": [],
   "source": []
  },
  {
   "cell_type": "code",
   "execution_count": null,
   "id": "95d2c28a",
   "metadata": {},
   "outputs": [],
   "source": []
  },
  {
   "cell_type": "code",
   "execution_count": null,
   "id": "2202a669",
   "metadata": {},
   "outputs": [],
   "source": []
  },
  {
   "cell_type": "code",
   "execution_count": null,
   "id": "c35fb360",
   "metadata": {},
   "outputs": [],
   "source": []
  },
  {
   "cell_type": "code",
   "execution_count": null,
   "id": "977e7579",
   "metadata": {},
   "outputs": [],
   "source": []
  }
 ],
 "metadata": {
  "kernelspec": {
   "display_name": "Python 3 (ipykernel)",
   "language": "python",
   "name": "python3"
  },
  "language_info": {
   "codemirror_mode": {
    "name": "ipython",
    "version": 3
   },
   "file_extension": ".py",
   "mimetype": "text/x-python",
   "name": "python",
   "nbconvert_exporter": "python",
   "pygments_lexer": "ipython3",
   "version": "3.10.2"
  }
 },
 "nbformat": 4,
 "nbformat_minor": 5
}
